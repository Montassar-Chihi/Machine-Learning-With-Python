{
 "cells": [
  {
   "cell_type": "code",
   "execution_count": null,
   "metadata": {},
   "outputs": [],
   "source": [
    "import numpy as np\n",
    "import seaborn as sns\n",
    "import matplotlib.pyplot as plt\n",
    "\n",
    "from sklearn.cluster import DBSCAN\n",
    "from sklearn.datasets import make_blobs\n",
    "from sklearn.neighbors import NearestNeighbors\n",
    "\n",
    "#from kneed import KneeLocator"
   ]
  },
  {
   "cell_type": "markdown",
   "metadata": {},
   "source": [
    "First create a set of data that could replicate a suitable set of data points \n",
    "\n",
    "---\n",
    "\n",
    "for our analysis"
   ]
  },
  {
   "cell_type": "code",
   "execution_count": null,
   "metadata": {},
   "outputs": [],
   "source": [
    "centers = [[1, 0.5], [2, 2], [1, -1]]\n",
    "stds = [0.1, 0.4, 0.3]\n",
    "X, labels_true = make_blobs(n_samples=1000, centers=centers, cluster_std=stds, random_state=0)\n",
    "\n",
    "fig = plt.figure(figsize=(5, 5))\n",
    "sns.scatterplot(X[:,0], X[:,1], hue=[\"cluster-{}\".format(x) for x in labels_true])\n",
    "plt.savefig(\"blobs.png\", dpi=300)"
   ]
  },
  {
   "cell_type": "code",
   "execution_count": null,
   "metadata": {},
   "outputs": [],
   "source": [
    "db = DBSCAN(eps=0.5, min_samples=10).fit(X)\n",
    "labels = db.labels_\n",
    "\n",
    "fig = plt.figure(figsize=(6,6))\n",
    "sns.scatterplot(X[:,0], X[:,1], hue=[\"cluster-{}\".format(x) for x in labels])\n",
    "plt.savefig(\"dbscan_dumb.png\", dpi=300)"
   ]
  },
  {
   "cell_type": "code",
   "execution_count": null,
   "metadata": {},
   "outputs": [],
   "source": [
    "fig = plt.figure(figsize=(20, 10))\n",
    "fig.subplots_adjust(hspace=.5, wspace=.2)\n",
    "i = 1\n",
    "\n",
    "for x in range(10, 0, -1):\n",
    "    eps = 1/(11-x)\n",
    "    db = DBSCAN(eps=eps, min_samples=10).fit(X)\n",
    "    core_samples_mask = np.zeros_like(db.labels_, dtype=bool)\n",
    "    core_samples_mask[db.core_sample_indices_] = True\n",
    "    labels = db.labels_\n",
    "    \n",
    "    ax = fig.add_subplot(2, 5, i)\n",
    "    ax.text(1, 4, \"eps = {}\".format(round(eps, 2)), fontsize=25, ha=\"center\")\n",
    "    sns.scatterplot(X[:,0], X[:,1], hue=[\"cluster-{}\".format(x) for x in labels])\n",
    "    \n",
    "    i += 1\n",
    "    \n",
    "plt.savefig(\"multi_eps.png\", dpi=300)"
   ]
  },
  {
   "cell_type": "code",
   "execution_count": null,
   "metadata": {},
   "outputs": [],
   "source": [
    "nearest_neighbors = NearestNeighbors(n_neighbors=11)\n",
    "neighbors = nearest_neighbors.fit(X)\n",
    "distances, indices = neighbors.kneighbors(X)\n",
    "\n",
    "distances = np.sort(distances[:,10], axis=0)\n",
    "i = np.arange(len(distances))\n",
    "knee = KneeLocator(i, distances, S=1, curve='convex', direction='increasing', interp_method='polynomial')\n",
    "\n",
    "fig = plt.figure(figsize=(5, 5))\n",
    "plt.plot(distances)\n",
    "plt.xlabel(\"Points\")\n",
    "plt.ylabel(\"Distance\")\n",
    "\n",
    "plt.savefig(\"Distance_curve.png\", dpi=300)"
   ]
  },
  {
   "cell_type": "code",
   "execution_count": null,
   "metadata": {},
   "outputs": [],
   "source": [
    "fig = plt.figure(figsize=(5, 5))\n",
    "knee.plot_knee()\n",
    "plt.xlabel(\"Points\")\n",
    "plt.ylabel(\"Distance\")\n",
    "plt.savefig(\"knee.png\", dpi=300)\n",
    "print(distances[knee.knee])"
   ]
  },
  {
   "cell_type": "code",
   "execution_count": null,
   "metadata": {},
   "outputs": [],
   "source": [
    "db = DBSCAN(eps=distances[knee.knee], min_samples=10).fit(X)\n",
    "labels = db.labels_\n",
    "\n",
    "fig = plt.figure(figsize=(5, 5))\n",
    "sns.scatterplot(X[:,0], X[:,1], hue=[\"cluster-{}\".format(x) for x in labels])\n",
    "plt.savefig(\"dbscan_with_knee.png\", dpi=300)"
   ]
  }
 ],
 "metadata": {
  "kernelspec": {
   "display_name": "Python 3",
   "language": "python",
   "name": "python3"
  },
  "language_info": {
   "codemirror_mode": {
    "name": "ipython",
    "version": 3
   },
   "file_extension": ".py",
   "mimetype": "text/x-python",
   "name": "python",
   "nbconvert_exporter": "python",
   "pygments_lexer": "ipython3",
   "version": "3.8.3"
  }
 },
 "nbformat": 4,
 "nbformat_minor": 4
}
